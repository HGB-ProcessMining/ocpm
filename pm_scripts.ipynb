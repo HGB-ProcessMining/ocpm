{
  "cells": [
    {
      "cell_type": "code",
      "execution_count": null,
      "metadata": {
        "colab": {
          "base_uri": "https://localhost:8080/"
        },
        "id": "RvzC7siN0Wiv",
        "outputId": "17997779-ba98-41bc-f91e-533b33153261"
      },
      "outputs": [],
      "source": [
        "# pmp4py requires pm4py latest and ocpa requires ocpa but uses an older version of pm4py so they dont mix.\n",
        "import pm4py \n",
        "#import ocpa\n",
        "#from google.colab import drive\n",
        "#drive.mount('/content/drive', force_remount=True)"
      ]
    },
    {
      "cell_type": "code",
      "execution_count": null,
      "metadata": {
        "id": "obHcXxvs0cav"
      },
      "outputs": [],
      "source": [
        "#import processmining as pm\n",
        "#import sys\n",
        "#base_dir = '/content/drive/MyDrive/Work/'\n",
        "#data_dir = base_dir + 'DataSets/'\n",
        "#sys.path.append(base_dir)"
      ]
    },
    {
      "cell_type": "markdown",
      "metadata": {
        "id": "cvY9ebv3Hqwx"
      },
      "source": [
        "# Object Centric Process Mining with pm4py"
      ]
    },
    {
      "cell_type": "code",
      "execution_count": null,
      "metadata": {
        "id": "7bSn-bGj9lgx"
      },
      "outputs": [],
      "source": [
        "log = pm4py.read_ocel_json('running-example_int.jsonocel')\n",
        "#log = pm4py.read_ocel_json(data_dir + 'order-management-log.jsonocel')"
      ]
    },
    {
      "attachments": {},
      "cell_type": "markdown",
      "metadata": {},
      "source": [
        "## Flattening"
      ]
    },
    {
      "cell_type": "code",
      "execution_count": null,
      "metadata": {
        "colab": {
          "base_uri": "https://localhost:8080/",
          "height": 424
        },
        "id": "dfgPK1DR-RDJ",
        "outputId": "5faf0acb-f9ea-46b7-cbe6-ab744700029e"
      },
      "outputs": [
        {
          "data": {
            "text/html": [
              "\n",
              "  <div id=\"df-0c06b95d-8978-4723-bea1-dcf90c22f2b6\">\n",
              "    <div class=\"colab-df-container\">\n",
              "      <div>\n",
              "<style scoped>\n",
              "    .dataframe tbody tr th:only-of-type {\n",
              "        vertical-align: middle;\n",
              "    }\n",
              "\n",
              "    .dataframe tbody tr th {\n",
              "        vertical-align: top;\n",
              "    }\n",
              "\n",
              "    .dataframe thead th {\n",
              "        text-align: right;\n",
              "    }\n",
              "</style>\n",
              "<table border=\"1\" class=\"dataframe\">\n",
              "  <thead>\n",
              "    <tr style=\"text-align: right;\">\n",
              "      <th></th>\n",
              "      <th>ocel:eid</th>\n",
              "      <th>time:timestamp</th>\n",
              "      <th>concept:name</th>\n",
              "      <th>weight</th>\n",
              "      <th>price</th>\n",
              "      <th>case:concept:name</th>\n",
              "      <th>case:ocel:type</th>\n",
              "      <th>case:cost</th>\n",
              "      <th>case:producer</th>\n",
              "      <th>case:age</th>\n",
              "      <th>case:bankaccount</th>\n",
              "    </tr>\n",
              "  </thead>\n",
              "  <tbody>\n",
              "    <tr>\n",
              "      <th>0</th>\n",
              "      <td>1.0</td>\n",
              "      <td>2019-05-20 09:07:47</td>\n",
              "      <td>place order</td>\n",
              "      <td>3.520</td>\n",
              "      <td>524.96</td>\n",
              "      <td>880001</td>\n",
              "      <td>items</td>\n",
              "      <td>NaN</td>\n",
              "      <td>NaN</td>\n",
              "      <td>NaN</td>\n",
              "      <td>NaN</td>\n",
              "    </tr>\n",
              "    <tr>\n",
              "      <th>1</th>\n",
              "      <td>1.0</td>\n",
              "      <td>2019-05-20 09:07:47</td>\n",
              "      <td>place order</td>\n",
              "      <td>3.520</td>\n",
              "      <td>524.96</td>\n",
              "      <td>880002</td>\n",
              "      <td>items</td>\n",
              "      <td>NaN</td>\n",
              "      <td>NaN</td>\n",
              "      <td>NaN</td>\n",
              "      <td>NaN</td>\n",
              "    </tr>\n",
              "    <tr>\n",
              "      <th>2</th>\n",
              "      <td>1.0</td>\n",
              "      <td>2019-05-20 09:07:47</td>\n",
              "      <td>place order</td>\n",
              "      <td>3.520</td>\n",
              "      <td>524.96</td>\n",
              "      <td>880003</td>\n",
              "      <td>items</td>\n",
              "      <td>NaN</td>\n",
              "      <td>NaN</td>\n",
              "      <td>NaN</td>\n",
              "      <td>NaN</td>\n",
              "    </tr>\n",
              "    <tr>\n",
              "      <th>3</th>\n",
              "      <td>1.0</td>\n",
              "      <td>2019-05-20 09:07:47</td>\n",
              "      <td>place order</td>\n",
              "      <td>3.520</td>\n",
              "      <td>524.96</td>\n",
              "      <td>880004</td>\n",
              "      <td>items</td>\n",
              "      <td>NaN</td>\n",
              "      <td>NaN</td>\n",
              "      <td>NaN</td>\n",
              "      <td>NaN</td>\n",
              "    </tr>\n",
              "    <tr>\n",
              "      <th>4</th>\n",
              "      <td>2.0</td>\n",
              "      <td>2019-05-20 10:35:21</td>\n",
              "      <td>place order</td>\n",
              "      <td>2.656</td>\n",
              "      <td>3255.99</td>\n",
              "      <td>880005</td>\n",
              "      <td>items</td>\n",
              "      <td>NaN</td>\n",
              "      <td>NaN</td>\n",
              "      <td>NaN</td>\n",
              "      <td>NaN</td>\n",
              "    </tr>\n",
              "    <tr>\n",
              "      <th>...</th>\n",
              "      <td>...</td>\n",
              "      <td>...</td>\n",
              "      <td>...</td>\n",
              "      <td>...</td>\n",
              "      <td>...</td>\n",
              "      <td>...</td>\n",
              "      <td>...</td>\n",
              "      <td>...</td>\n",
              "      <td>...</td>\n",
              "      <td>...</td>\n",
              "      <td>...</td>\n",
              "    </tr>\n",
              "    <tr>\n",
              "      <th>64912</th>\n",
              "      <td>22364.0</td>\n",
              "      <td>2020-08-19 17:57:32</td>\n",
              "      <td>package delivered</td>\n",
              "      <td>0.606</td>\n",
              "      <td>1275.00</td>\n",
              "      <td>888071</td>\n",
              "      <td>items</td>\n",
              "      <td>NaN</td>\n",
              "      <td>NaN</td>\n",
              "      <td>NaN</td>\n",
              "      <td>NaN</td>\n",
              "    </tr>\n",
              "    <tr>\n",
              "      <th>64913</th>\n",
              "      <td>22364.0</td>\n",
              "      <td>2020-08-19 17:57:32</td>\n",
              "      <td>package delivered</td>\n",
              "      <td>0.606</td>\n",
              "      <td>1275.00</td>\n",
              "      <td>888072</td>\n",
              "      <td>items</td>\n",
              "      <td>NaN</td>\n",
              "      <td>NaN</td>\n",
              "      <td>NaN</td>\n",
              "      <td>NaN</td>\n",
              "    </tr>\n",
              "    <tr>\n",
              "      <th>64914</th>\n",
              "      <td>22365.0</td>\n",
              "      <td>2020-08-22 01:00:00</td>\n",
              "      <td>create package</td>\n",
              "      <td>0.172</td>\n",
              "      <td>699.00</td>\n",
              "      <td>888091</td>\n",
              "      <td>items</td>\n",
              "      <td>NaN</td>\n",
              "      <td>NaN</td>\n",
              "      <td>NaN</td>\n",
              "      <td>NaN</td>\n",
              "    </tr>\n",
              "    <tr>\n",
              "      <th>64915</th>\n",
              "      <td>22366.0</td>\n",
              "      <td>2020-08-24 11:14:47</td>\n",
              "      <td>send package</td>\n",
              "      <td>0.172</td>\n",
              "      <td>699.00</td>\n",
              "      <td>888091</td>\n",
              "      <td>items</td>\n",
              "      <td>NaN</td>\n",
              "      <td>NaN</td>\n",
              "      <td>NaN</td>\n",
              "      <td>NaN</td>\n",
              "    </tr>\n",
              "    <tr>\n",
              "      <th>64916</th>\n",
              "      <td>22367.0</td>\n",
              "      <td>2020-08-25 16:30:41</td>\n",
              "      <td>package delivered</td>\n",
              "      <td>0.172</td>\n",
              "      <td>699.00</td>\n",
              "      <td>888091</td>\n",
              "      <td>items</td>\n",
              "      <td>NaN</td>\n",
              "      <td>NaN</td>\n",
              "      <td>NaN</td>\n",
              "      <td>NaN</td>\n",
              "    </tr>\n",
              "  </tbody>\n",
              "</table>\n",
              "<p>64917 rows × 11 columns</p>\n",
              "</div>\n",
              "      <button class=\"colab-df-convert\" onclick=\"convertToInteractive('df-0c06b95d-8978-4723-bea1-dcf90c22f2b6')\"\n",
              "              title=\"Convert this dataframe to an interactive table.\"\n",
              "              style=\"display:none;\">\n",
              "        \n",
              "  <svg xmlns=\"http://www.w3.org/2000/svg\" height=\"24px\"viewBox=\"0 0 24 24\"\n",
              "       width=\"24px\">\n",
              "    <path d=\"M0 0h24v24H0V0z\" fill=\"none\"/>\n",
              "    <path d=\"M18.56 5.44l.94 2.06.94-2.06 2.06-.94-2.06-.94-.94-2.06-.94 2.06-2.06.94zm-11 1L8.5 8.5l.94-2.06 2.06-.94-2.06-.94L8.5 2.5l-.94 2.06-2.06.94zm10 10l.94 2.06.94-2.06 2.06-.94-2.06-.94-.94-2.06-.94 2.06-2.06.94z\"/><path d=\"M17.41 7.96l-1.37-1.37c-.4-.4-.92-.59-1.43-.59-.52 0-1.04.2-1.43.59L10.3 9.45l-7.72 7.72c-.78.78-.78 2.05 0 2.83L4 21.41c.39.39.9.59 1.41.59.51 0 1.02-.2 1.41-.59l7.78-7.78 2.81-2.81c.8-.78.8-2.07 0-2.86zM5.41 20L4 18.59l7.72-7.72 1.47 1.35L5.41 20z\"/>\n",
              "  </svg>\n",
              "      </button>\n",
              "      \n",
              "  <style>\n",
              "    .colab-df-container {\n",
              "      display:flex;\n",
              "      flex-wrap:wrap;\n",
              "      gap: 12px;\n",
              "    }\n",
              "\n",
              "    .colab-df-convert {\n",
              "      background-color: #E8F0FE;\n",
              "      border: none;\n",
              "      border-radius: 50%;\n",
              "      cursor: pointer;\n",
              "      display: none;\n",
              "      fill: #1967D2;\n",
              "      height: 32px;\n",
              "      padding: 0 0 0 0;\n",
              "      width: 32px;\n",
              "    }\n",
              "\n",
              "    .colab-df-convert:hover {\n",
              "      background-color: #E2EBFA;\n",
              "      box-shadow: 0px 1px 2px rgba(60, 64, 67, 0.3), 0px 1px 3px 1px rgba(60, 64, 67, 0.15);\n",
              "      fill: #174EA6;\n",
              "    }\n",
              "\n",
              "    [theme=dark] .colab-df-convert {\n",
              "      background-color: #3B4455;\n",
              "      fill: #D2E3FC;\n",
              "    }\n",
              "\n",
              "    [theme=dark] .colab-df-convert:hover {\n",
              "      background-color: #434B5C;\n",
              "      box-shadow: 0px 1px 3px 1px rgba(0, 0, 0, 0.15);\n",
              "      filter: drop-shadow(0px 1px 2px rgba(0, 0, 0, 0.3));\n",
              "      fill: #FFFFFF;\n",
              "    }\n",
              "  </style>\n",
              "\n",
              "      <script>\n",
              "        const buttonEl =\n",
              "          document.querySelector('#df-0c06b95d-8978-4723-bea1-dcf90c22f2b6 button.colab-df-convert');\n",
              "        buttonEl.style.display =\n",
              "          google.colab.kernel.accessAllowed ? 'block' : 'none';\n",
              "\n",
              "        async function convertToInteractive(key) {\n",
              "          const element = document.querySelector('#df-0c06b95d-8978-4723-bea1-dcf90c22f2b6');\n",
              "          const dataTable =\n",
              "            await google.colab.kernel.invokeFunction('convertToInteractive',\n",
              "                                                     [key], {});\n",
              "          if (!dataTable) return;\n",
              "\n",
              "          const docLinkHtml = 'Like what you see? Visit the ' +\n",
              "            '<a target=\"_blank\" href=https://colab.research.google.com/notebooks/data_table.ipynb>data table notebook</a>'\n",
              "            + ' to learn more about interactive tables.';\n",
              "          element.innerHTML = '';\n",
              "          dataTable['output_type'] = 'display_data';\n",
              "          await google.colab.output.renderOutput(dataTable, element);\n",
              "          const docLink = document.createElement('div');\n",
              "          docLink.innerHTML = docLinkHtml;\n",
              "          element.appendChild(docLink);\n",
              "        }\n",
              "      </script>\n",
              "    </div>\n",
              "  </div>\n",
              "  "
            ],
            "text/plain": [
              "      ocel:eid      time:timestamp       concept:name  weight    price  \\\n",
              "0          1.0 2019-05-20 09:07:47        place order   3.520   524.96   \n",
              "1          1.0 2019-05-20 09:07:47        place order   3.520   524.96   \n",
              "2          1.0 2019-05-20 09:07:47        place order   3.520   524.96   \n",
              "3          1.0 2019-05-20 09:07:47        place order   3.520   524.96   \n",
              "4          2.0 2019-05-20 10:35:21        place order   2.656  3255.99   \n",
              "...        ...                 ...                ...     ...      ...   \n",
              "64912  22364.0 2020-08-19 17:57:32  package delivered   0.606  1275.00   \n",
              "64913  22364.0 2020-08-19 17:57:32  package delivered   0.606  1275.00   \n",
              "64914  22365.0 2020-08-22 01:00:00     create package   0.172   699.00   \n",
              "64915  22366.0 2020-08-24 11:14:47       send package   0.172   699.00   \n",
              "64916  22367.0 2020-08-25 16:30:41  package delivered   0.172   699.00   \n",
              "\n",
              "      case:concept:name case:ocel:type  case:cost case:producer  case:age  \\\n",
              "0                880001          items        NaN           NaN       NaN   \n",
              "1                880002          items        NaN           NaN       NaN   \n",
              "2                880003          items        NaN           NaN       NaN   \n",
              "3                880004          items        NaN           NaN       NaN   \n",
              "4                880005          items        NaN           NaN       NaN   \n",
              "...                 ...            ...        ...           ...       ...   \n",
              "64912            888071          items        NaN           NaN       NaN   \n",
              "64913            888072          items        NaN           NaN       NaN   \n",
              "64914            888091          items        NaN           NaN       NaN   \n",
              "64915            888091          items        NaN           NaN       NaN   \n",
              "64916            888091          items        NaN           NaN       NaN   \n",
              "\n",
              "       case:bankaccount  \n",
              "0                   NaN  \n",
              "1                   NaN  \n",
              "2                   NaN  \n",
              "3                   NaN  \n",
              "4                   NaN  \n",
              "...                 ...  \n",
              "64912               NaN  \n",
              "64913               NaN  \n",
              "64914               NaN  \n",
              "64915               NaN  \n",
              "64916               NaN  \n",
              "\n",
              "[64917 rows x 11 columns]"
            ]
          },
          "execution_count": 35,
          "metadata": {},
          "output_type": "execute_result"
        }
      ],
      "source": [
        "flattened_log = pm4py.ocel_flattening(ocel=log, object_type='items')\n",
        "flattened_log"
      ]
    },
    {
      "cell_type": "code",
      "execution_count": null,
      "metadata": {
        "id": "cw2sepKQM29G"
      },
      "outputs": [],
      "source": [
        "pm4py.write_xes(flattened_log, data_dir + 'ordermgmt_item.xes')"
      ]
    },
    {
      "attachments": {},
      "cell_type": "markdown",
      "metadata": {},
      "source": [
        "## OC Petri Net"
      ]
    },
    {
      "cell_type": "code",
      "execution_count": 3,
      "metadata": {
        "id": "2Pr7rDdjV9NG"
      },
      "outputs": [],
      "source": [
        "ocpn = pm4py.discover_oc_petri_net(log)"
      ]
    },
    {
      "cell_type": "code",
      "execution_count": null,
      "metadata": {
        "id": "gFm6kePWWEGZ"
      },
      "outputs": [],
      "source": [
        "pm4py.view_ocpn(ocpn=ocpn, format=\"png\")"
      ]
    },
    {
      "attachments": {},
      "cell_type": "markdown",
      "metadata": {},
      "source": [
        "## OC Directly Follows Graph"
      ]
    },
    {
      "cell_type": "code",
      "execution_count": 5,
      "metadata": {
        "id": "K6Z7O41DnOtB"
      },
      "outputs": [],
      "source": [
        "ocdfg = pm4py.discover_ocdfg(log)"
      ]
    },
    {
      "cell_type": "code",
      "execution_count": null,
      "metadata": {},
      "outputs": [],
      "source": [
        "pm4py.view_ocdfg(ocdfg=ocdfg, edge_metric='total_objects', edge_threshold=900)"
      ]
    },
    {
      "attachments": {},
      "cell_type": "markdown",
      "metadata": {},
      "source": [
        "## Object Graphs"
      ]
    },
    {
      "cell_type": "code",
      "execution_count": 5,
      "metadata": {
        "id": "9xCw1MMHgpQG"
      },
      "outputs": [],
      "source": [
        "from pm4py.algo.transformation.ocel.graphs import object_interaction_graph, object_cobirth_graph, object_codeath_graph, object_descendants_graph, object_inheritance_graph\n",
        "oigr = object_interaction_graph.apply(log)\n",
        "ocbgr = object_cobirth_graph.apply(log)\n",
        "ocdgr = object_codeath_graph.apply(log)\n",
        "odgr = object_descendants_graph.apply(log)\n",
        "oihgr = object_inheritance_graph.apply(log)"
      ]
    },
    {
      "cell_type": "code",
      "execution_count": 6,
      "metadata": {
        "id": "RJ3cPvYfSvZx"
      },
      "outputs": [],
      "source": [
        "pm4py.view_object_graph(graph=odgr, ocel=log)"
      ]
    },
    {
      "cell_type": "markdown",
      "metadata": {
        "id": "qMl7-sPWEi4_"
      },
      "source": [
        "# Object Centric Process Mining with ocpa\n"
      ]
    },
    {
      "cell_type": "code",
      "execution_count": null,
      "metadata": {
        "colab": {
          "base_uri": "https://localhost:8080/"
        },
        "id": "k-Quwn7PhITw",
        "outputId": "9ed70839-bb15-46c8-d876-19b87f64d036"
      },
      "outputs": [
        {
          "name": "stderr",
          "output_type": "stream",
          "text": [
            "<ipython-input-7-d93271601b3c>:1: DeprecatedWarning: read_ocel is deprecated as of 2.3.0 and will be removed in 3.0.0. the read_ocel function is deprecated and replaced by read_ocel_csv, read_ocel_json and read_ocel_xml, respectively\n",
            "  log = pm4py.read_ocel(data_dir + 'order-management-log.jsonocel')\n"
          ]
        }
      ],
      "source": [
        "log = pm4py.read_ocel('running-example_int.jsonocel') # importer is deprecated in newer versions of pm4py"
      ]
    },
    {
      "cell_type": "code",
      "execution_count": null,
      "metadata": {
        "id": "qOjb7GkrExIk"
      },
      "outputs": [],
      "source": [
        "from ocpa.algo.discovery.ocpn import algorithm as ocpn_discovery_factory\n",
        "from ocpa.visualization.oc_petri_net import factory as ocpn_vis_factory\n",
        "from ocpa.objects.log.importer.ocel import factory as ocel_import_factory\n",
        "filename = data_dir + 'running-example_int.jsonocel'\n",
        "\n",
        "ocel = ocel_import_factory.apply(file_path=filename)\n",
        "#ocpn = ocpn_discovery_factory.apply(ocel, parameters={\"debug\": False})\n",
        "#ocpn_vis_factory.save(ocpn_vis_factory.apply(ocpn), \"oc_petri_net.png\")"
      ]
    },
    {
      "cell_type": "code",
      "execution_count": null,
      "metadata": {
        "id": "AXBNdnxzGEw_"
      },
      "outputs": [],
      "source": [
        "from ocpa.objects.log.importer.ocel import factory as ocel_import_factory\n",
        "from ocpa.visualization.log.variants import factory as variants_visualization_factory\n",
        "print(\"Number of process executions: \"+str(len(ocel.process_executions)))\n",
        "print(\"Number of variants: \"+str(len(ocel.variants)))\n",
        "variant_layouting = variants_visualization_factory.apply(ocel)\n",
        "print(variant_layouting[ocel.variants[0]])"
      ]
    }
  ],
  "metadata": {
    "colab": {
      "collapsed_sections": [
        "t-SDEXqJHVk5"
      ],
      "provenance": []
    },
    "kernelspec": {
      "display_name": "Python 3",
      "language": "python",
      "name": "python3"
    },
    "language_info": {
      "codemirror_mode": {
        "name": "ipython",
        "version": 3
      },
      "file_extension": ".py",
      "mimetype": "text/x-python",
      "name": "python",
      "nbconvert_exporter": "python",
      "pygments_lexer": "ipython3",
      "version": "3.10.8"
    },
    "vscode": {
      "interpreter": {
        "hash": "9665b23f2d1a9a8bd7850a47d7327c5a94f4a6f0cf16fef2a2b574de592602b1"
      }
    }
  },
  "nbformat": 4,
  "nbformat_minor": 0
}
